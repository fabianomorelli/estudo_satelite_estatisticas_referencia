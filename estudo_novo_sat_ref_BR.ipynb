{
 "cells": [
  {
   "cell_type": "markdown",
   "metadata": {},
   "source": [
    "# Notebook criado em 22/08/20 para desenvolvimento de uma metodologia para análise da correlação entre focos do satélite de referência (AQUA_M-T) como os S-NPP"
   ]
  },
  {
   "cell_type": "code",
   "execution_count": 76,
   "metadata": {},
   "outputs": [],
   "source": [
    "# Importação de bibliotecas de referência\n",
    "import pandas as pd\n",
    "from sqlalchemy import create_engine, pool\n",
    "from scipy.stats import linregress\n",
    "import seaborn as sns\n",
    "%matplotlib inline\n"
   ]
  },
  {
   "cell_type": "code",
   "execution_count": null,
   "metadata": {},
   "outputs": [],
   "source": [
    "pd.options.display.float_format = '{:,.2f}'.format\n"
   ]
  },
  {
   "cell_type": "code",
   "execution_count": 77,
   "metadata": {},
   "outputs": [],
   "source": [
    "# Conexão com o banco de dados\n",
    "# engine = create_engine('postgresql://@localhost:5432/api', poolclass=pool.NullPool)\n",
    "engine = create_engine('postgresql://@localhost:9933/api', poolclass=pool.NullPool)"
   ]
  },
  {
   "cell_type": "markdown",
   "metadata": {},
   "source": [
    "<pre>\n",
    "api=# select name_1, id_1 from dados_geo.estados where id_0 = 33;\n",
    "       name_1        | id_1\n",
    "---------------------+------\n",
    " MATO GROSSO         |   51\n",
    " GOIÁS               |   52\n",
    " DISTRITO FEDERAL    |   53\n",
    " RONDÔNIA            |   11\n",
    " ACRE                |   12\n",
    " AMAZONAS            |   13\n",
    " RORAIMA             |   14\n",
    " PARÁ                |   15\n",
    " AMAPÁ               |   16\n",
    " TOCANTINS           |   17\n",
    " MARANHÃO            |   21\n",
    " PIAUÍ               |   22\n",
    " CEARÁ               |   23\n",
    " PARAÍBA             |   25\n",
    " RIO GRANDE DO NORTE |   24\n",
    " PERNAMBUCO          |   26\n",
    " ALAGOAS             |   27\n",
    " SERGIPE             |   28\n",
    " BAHIA               |   29\n",
    " MINAS GERAIS        |   31\n",
    " ESPÍRITO SANTO      |   32\n",
    " RIO DE JANEIRO      |   33\n",
    " SÃO PAULO           |   35\n",
    " PARANÁ              |   41\n",
    " SANTA CATARINA      |   42\n",
    " RIO GRANDE DO SUL   |   43\n",
    " MATO GROSSO DO SUL  |   50\n",
    " \n",
    " \n",
    " api=# select distinct bioma from collection2.focos_bdq_c2 where id_0 =33 and data_hora_gmt > '20200801';\n",
    "     bioma\n",
    "----------------\n",
    " Amazônia\n",
    " Caatinga\n",
    " Cerrado\n",
    " Mata Atlântica\n",
    " Pampa\n",
    " Pantanal\n",
    " \n",
    " </pre>"
   ]
  },
  {
   "cell_type": "code",
   "execution_count": null,
   "metadata": {},
   "outputs": [],
   "source": [
    "# CONSULTA PARA FAZER AS ANALISES PARA O BRASIL\n",
    "engine.connect()\n",
    "sql = \"\"\"\n",
    "\n",
    "select\n",
    "\t date_trunc('month', data_hora_gmt)::date data_mes,\n",
    "\tsatelite,\n",
    "\tcount(1) as qtd\n",
    "from\n",
    "\tcollection2.focos_bdq_c2\n",
    "where\n",
    "\t--extract(month from data_hora_gmt) = 1 and \n",
    "\tdata_hora_gmt >= '20130101' and data_hora_gmt < '20200816'\n",
    "\tand satelite in ('AQUA_M-T', 'NPP-375')\n",
    "\tand id_0 = 33\n",
    "\t--and id_1 = 52\n",
    "\tAND (id_tipo_area_industrial = 0 or id_tipo_area_industrial is null) \n",
    "    and id_area_industrial = 0\n",
    "group by 1,2\n",
    "order by 1,2\n",
    "\n",
    ";\n",
    "\"\"\"\n",
    "focos = pd.read_sql(sql, engine)\n",
    "focos[\"data_mes\"] = pd.to_datetime(focos.data_mes)"
   ]
  },
  {
   "cell_type": "code",
   "execution_count": null,
   "metadata": {},
   "outputs": [],
   "source": [
    "# CONSULTA PARA FAZER AS ANALISES PARA OS BIOMAS\n",
    "\n",
    "engine.connect()\n",
    "sql = \"\"\"\n",
    "\n",
    "select\n",
    "\t date_trunc('month', data_hora_gmt)::date data_mes,\n",
    "\tsatelite,\n",
    "    bioma,\n",
    "\tcount(1) as qtd\n",
    "from\n",
    "\tcollection2.focos_bdq_c2\n",
    "where\n",
    "\t--extract(month from data_hora_gmt) = 1 and \n",
    "\tdata_hora_gmt >= '20130101' and data_hora_gmt < '20200816'\n",
    "\tand satelite in ('AQUA_M-T', 'NPP-375')\n",
    "\tand id_0 = 33\n",
    "\t--and id_1 = 52\n",
    "\tAND (id_tipo_area_industrial = 0 or id_tipo_area_industrial is null)\n",
    "    and id_area_industrial = 0\n",
    "group by 1,2,3\n",
    "order by 1,2,3\n",
    "\n",
    ";\n",
    "\"\"\"\n",
    "focos = pd.read_sql(sql, engine)\n",
    "focos[\"data_mes\"] = pd.to_datetime(focos.data_mes)"
   ]
  },
  {
   "cell_type": "code",
   "execution_count": null,
   "metadata": {},
   "outputs": [],
   "source": [
    "# CONSULTA PARA FAZER AS ANALISES PARA OS ESTADOS\n",
    "\n",
    "engine.connect()\n",
    "sql = \"\"\"\n",
    "\n",
    "select\n",
    "\t date_trunc('month', data_hora_gmt)::date data_mes,\n",
    "\tsatelite,\n",
    "    id_1,\n",
    "\tcount(1) as qtd\n",
    "from\n",
    "\tcollection2.focos_bdq_c2\n",
    "where\n",
    "\tdata_hora_gmt >= '20130101' and data_hora_gmt < '20200816'\n",
    "\tand satelite in ('AQUA_M-T', 'NPP-375')\n",
    "\tand id_0 = 33\n",
    "\tAND (id_tipo_area_industrial = 0 or id_tipo_area_industrial is null)\n",
    "    and id_area_industrial = 0\n",
    "group by 1,2,3\n",
    "order by 1,2,3\n",
    "\n",
    ";\n",
    "\"\"\"\n",
    "focos = pd.read_sql(sql, engine)\n",
    "focos[\"data_mes\"] = pd.to_datetime(focos.data_mes)"
   ]
  },
  {
   "cell_type": "code",
   "execution_count": 80,
   "metadata": {},
   "outputs": [],
   "source": [
    "# CONSULTA GERAL\n",
    "\n",
    "engine.connect()\n",
    "sql = \"\"\"\n",
    "\n",
    "select\n",
    "    date_trunc('month', data_hora_gmt)::date data_mes,\n",
    "    satelite,\n",
    "    id_1,\n",
    "    estado,\n",
    "    bioma,\n",
    "    count(1) as qtd\n",
    "from\n",
    "\tcollection2.focos_bdq_c2\n",
    "where\n",
    "\tdata_hora_gmt >= '20120101' and data_hora_gmt < '20200816'\n",
    "\tand satelite in ('AQUA_M-T', 'NPP-375', 'NOAA-12')\n",
    "\tand id_0 = 33\n",
    "\tAND (id_tipo_area_industrial = 0 or id_tipo_area_industrial is null)\n",
    "    and id_area_industrial = 0\n",
    "group by 1,2,3,4,5\n",
    "order by 1,2\n",
    "\n",
    ";\n",
    "\"\"\"\n",
    "focos = pd.read_sql(sql, engine)\n",
    "focos[\"data_mes\"] = pd.to_datetime(focos.data_mes)"
   ]
  },
  {
   "cell_type": "code",
   "execution_count": null,
   "metadata": {},
   "outputs": [],
   "source": [
    "focos.info()"
   ]
  },
  {
   "cell_type": "code",
   "execution_count": 81,
   "metadata": {},
   "outputs": [],
   "source": [
    "focos.to_csv('./dados_geral.csv')"
   ]
  },
  {
   "cell_type": "code",
   "execution_count": null,
   "metadata": {},
   "outputs": [],
   "source": [
    "focos = pd.read_csv('./dados_biomas.csv', index_col=0, parse_dates=[1])"
   ]
  },
  {
   "cell_type": "code",
   "execution_count": null,
   "metadata": {},
   "outputs": [],
   "source": [
    "focos.head(-1)"
   ]
  },
  {
   "cell_type": "code",
   "execution_count": null,
   "metadata": {},
   "outputs": [],
   "source": [
    "focos = focos[focos.bioma == 'Amazônia'][[\"data_mes\", \"satelite\", \"qtd\"]]"
   ]
  },
  {
   "cell_type": "code",
   "execution_count": null,
   "metadata": {},
   "outputs": [],
   "source": [
    "acum = focos.pivot_table(index='data_mes', columns=[ 'satelite'], aggfunc=\"mean\", values='qtd', margins=False )\n",
    "acum = pd.DataFrame(acum.to_records())"
   ]
  },
  {
   "cell_type": "code",
   "execution_count": null,
   "metadata": {},
   "outputs": [],
   "source": [
    "acum.head()"
   ]
  },
  {
   "cell_type": "code",
   "execution_count": null,
   "metadata": {},
   "outputs": [],
   "source": [
    "acum.info()"
   ]
  },
  {
   "cell_type": "code",
   "execution_count": null,
   "metadata": {},
   "outputs": [],
   "source": [
    "acum['ano']=acum.data_mes.dt.year\n",
    "acum.head()"
   ]
  },
  {
   "cell_type": "code",
   "execution_count": null,
   "metadata": {
    "scrolled": false
   },
   "outputs": [],
   "source": [
    "# sns.pairplot(data, x_vars=['TV','Radio','Newspaper'], y_vars='Sales')\n",
    "#sns.pairplot(acum,x_vars=['NPP-375'], y_vars=['AQUA_M-T'],height=8.27, aspect=11.7/8.27);\n",
    "# sns.lmplot(x=\"total_bill\", y=\"tip\", col=\"day\", data=tips, col_wrap=2, height=3);\n",
    "sns.lmplot(x=\"NPP-375\", y=\"AQUA_M-T\", col=\"ano\", data=acum, col_wrap=4 , height=3);"
   ]
  },
  {
   "cell_type": "code",
   "execution_count": null,
   "metadata": {
    "scrolled": false
   },
   "outputs": [],
   "source": [
    "g = sns.jointplot('NPP-375', 'AQUA_M-T', data=acum, kind=\"reg\",\n",
    "                  color=\"r\", height=8.27)"
   ]
  },
  {
   "cell_type": "code",
   "execution_count": null,
   "metadata": {},
   "outputs": [],
   "source": [
    "linregress(acum['NPP-375'] , acum['AQUA_M-T'])"
   ]
  },
  {
   "cell_type": "code",
   "execution_count": null,
   "metadata": {},
   "outputs": [],
   "source": [
    "slope, intercept, r_value, p_value, std_err = linregress( acum['NPP-375'], acum['AQUA_M-T'] )"
   ]
  },
  {
   "cell_type": "code",
   "execution_count": null,
   "metadata": {},
   "outputs": [],
   "source": [
    "print(\"slope: %f    intercept: %f\" % (slope, intercept))"
   ]
  },
  {
   "cell_type": "code",
   "execution_count": null,
   "metadata": {},
   "outputs": [],
   "source": [
    "print(\"R-squared: %f\" % r_value**2)"
   ]
  },
  {
   "cell_type": "code",
   "execution_count": null,
   "metadata": {},
   "outputs": [],
   "source": [
    "acum['ref_calc'] = acum['NPP-375']*slope + intercept"
   ]
  },
  {
   "cell_type": "code",
   "execution_count": null,
   "metadata": {},
   "outputs": [],
   "source": [
    "int(acum['AQUA_M-T'].sum()), int(acum['ref_calc'].sum())"
   ]
  },
  {
   "cell_type": "markdown",
   "metadata": {},
   "source": [
    " O valor acima mostra que a soma de todo o período deu uma correlação perfeita. Porém na celula abaixo nota-se que os valores acumulados mensais estimados e observados em 2020, mes a mes são muito diferente"
   ]
  },
  {
   "cell_type": "code",
   "execution_count": null,
   "metadata": {
    "scrolled": true
   },
   "outputs": [],
   "source": [
    "acum [(acum.data_mes.dt.year == 2020)]"
   ]
  },
  {
   "cell_type": "code",
   "execution_count": null,
   "metadata": {
    "scrolled": true
   },
   "outputs": [],
   "source": [
    "total20_aqua = acum [(acum.data_mes.dt.year == 2020)][\"AQUA_M-T\"].sum()\n",
    "total20_calc = int(acum [(acum.data_mes.dt.year == 2020)][\"ref_calc\"].sum())\n",
    "dif = (total20_calc - total20_aqua) / total20_aqua \n",
    "print(total20_aqua, total20_calc, dif)"
   ]
  },
  {
   "cell_type": "markdown",
   "metadata": {},
   "source": [
    " Optei por fazer uma análise considerando a quantidade de focos.\n",
    " \n",
    " Neste sentido fiz uma análise estatística da distribuição do total de focos nos meses."
   ]
  },
  {
   "cell_type": "code",
   "execution_count": null,
   "metadata": {},
   "outputs": [],
   "source": [
    "# focos.acum_ano.hist(figsize=(20,10), bins=np.arange(0,40000,25));\n",
    "focos.qtd.hist();"
   ]
  },
  {
   "cell_type": "code",
   "execution_count": null,
   "metadata": {},
   "outputs": [],
   "source": [
    "focos.qtd.describe(percentiles=[0.10,0.25,0.50,0.75,0.90])"
   ]
  },
  {
   "cell_type": "code",
   "execution_count": null,
   "metadata": {},
   "outputs": [],
   "source": [
    "focos.boxplot(column='qtd',\n",
    "              figsize=(5,10)\n",
    ");"
   ]
  },
  {
   "cell_type": "markdown",
   "metadata": {},
   "source": [
    "  Pelo fato da estatística te apresentado que 90% dos meses possuem quantidade menor que 15 mil focos, optei por fazer um recorte e analisar este sub conjunto primeiro."
   ]
  },
  {
   "cell_type": "code",
   "execution_count": null,
   "metadata": {},
   "outputs": [],
   "source": [
    "f15 = focos[focos.qtd <= 15000]"
   ]
  },
  {
   "cell_type": "code",
   "execution_count": null,
   "metadata": {},
   "outputs": [],
   "source": [
    "f15"
   ]
  },
  {
   "cell_type": "code",
   "execution_count": null,
   "metadata": {},
   "outputs": [],
   "source": [
    "f15.boxplot(column='qtd',\n",
    "              figsize=(5,10)\n",
    ");"
   ]
  },
  {
   "cell_type": "code",
   "execution_count": null,
   "metadata": {},
   "outputs": [],
   "source": [
    "acum = f15.pivot_table(index='data_mes', columns=['satelite'], aggfunc=\"mean\", values='qtd', margins=False )\n",
    "acum = pd.DataFrame(acum.to_records())\n",
    "acum"
   ]
  },
  {
   "cell_type": "markdown",
   "metadata": {},
   "source": [
    "  Para ter certeza que ambos os satélites possuem registros em todos os meses fiz o teste abaixo, e verifiquei que o NPP possui 21 meses com mais de 15 focos enquanto o aqua possui menos."
   ]
  },
  {
   "cell_type": "code",
   "execution_count": null,
   "metadata": {
    "scrolled": true
   },
   "outputs": [],
   "source": [
    "acum.isnull().sum()"
   ]
  },
  {
   "cell_type": "code",
   "execution_count": null,
   "metadata": {},
   "outputs": [],
   "source": [
    "acum[acum[\"NPP-375\"].isnull()]"
   ]
  },
  {
   "cell_type": "code",
   "execution_count": null,
   "metadata": {},
   "outputs": [],
   "source": [
    "acum = acum[~(acum[\"NPP-375\"].isnull() )]"
   ]
  },
  {
   "cell_type": "code",
   "execution_count": null,
   "metadata": {},
   "outputs": [],
   "source": [
    "acum = acum[~(acum.data_mes.dt.year == 2020)]"
   ]
  },
  {
   "cell_type": "code",
   "execution_count": null,
   "metadata": {},
   "outputs": [],
   "source": [
    "g = sns.jointplot('NPP-375', 'AQUA_M-T', data=acum, kind=\"reg\",\n",
    "                  color=\"r\", height=8.27)"
   ]
  },
  {
   "cell_type": "code",
   "execution_count": null,
   "metadata": {},
   "outputs": [],
   "source": [
    "linregress(acum['NPP-375'] , acum['AQUA_M-T'])"
   ]
  },
  {
   "cell_type": "code",
   "execution_count": null,
   "metadata": {},
   "outputs": [],
   "source": [
    "0.9328491117829526**2"
   ]
  },
  {
   "cell_type": "markdown",
   "metadata": {},
   "source": [
    "  Como pode ser notado o R2 desta analise não foi satisfatório e portanto vou tentar a abordagem de fazer por trimeste.\n",
    "  \n",
    "# Analise por trimestre"
   ]
  },
  {
   "cell_type": "code",
   "execution_count": null,
   "metadata": {
    "scrolled": false
   },
   "outputs": [],
   "source": [
    "focos"
   ]
  },
  {
   "cell_type": "code",
   "execution_count": null,
   "metadata": {},
   "outputs": [],
   "source": [
    "focos_mes = focos[focos.data_mes.dt.month.isin([5,6,7,11,12])]"
   ]
  },
  {
   "cell_type": "code",
   "execution_count": null,
   "metadata": {},
   "outputs": [],
   "source": [
    "focos_mes = focos[focos.data_mes.dt.month.isin([1,2,3])]"
   ]
  },
  {
   "cell_type": "code",
   "execution_count": null,
   "metadata": {},
   "outputs": [],
   "source": [
    "focos_mes = focos[focos.data_mes.dt.month.isin([8,9,10])]"
   ]
  },
  {
   "cell_type": "code",
   "execution_count": null,
   "metadata": {},
   "outputs": [],
   "source": [
    "focos_mes = focos[focos.data_mes.dt.month.isin([5,6,7,11,12,8,9,10])] "
   ]
  },
  {
   "cell_type": "code",
   "execution_count": null,
   "metadata": {},
   "outputs": [],
   "source": [
    "focos20 = focos[(focos.data_mes.dt.year == 2020)]\n",
    "acum20 = focos20.pivot_table(index='data_mes', columns=['satelite'], aggfunc=\"mean\", values='qtd', margins=False )\n",
    "acum20 = pd.DataFrame(acum20.to_records())\n",
    "acum20"
   ]
  },
  {
   "cell_type": "code",
   "execution_count": null,
   "metadata": {},
   "outputs": [],
   "source": [
    "acum = focos_mes.pivot_table(index='data_mes', columns=['satelite'], aggfunc=\"mean\", values='qtd', margins=False )\n",
    "acum = pd.DataFrame(acum.to_records())\n",
    "\n",
    "acum = acum[~(acum.data_mes.dt.year == 2020)]\n",
    "\n",
    "acum.describe()"
   ]
  },
  {
   "cell_type": "code",
   "execution_count": null,
   "metadata": {},
   "outputs": [],
   "source": [
    "acum['mes']=acum.data_mes.dt.month"
   ]
  },
  {
   "cell_type": "code",
   "execution_count": null,
   "metadata": {},
   "outputs": [],
   "source": [
    "acum"
   ]
  },
  {
   "cell_type": "code",
   "execution_count": null,
   "metadata": {},
   "outputs": [],
   "source": [
    "acum.plot.scatter('NPP-375', 'AQUA_M-T', c='mes',colormap='viridis');\n",
    "# g = sns.jointplot('NPP-375', 'AQUA_M-T', data=acum, kind=\"reg\", color=\"r\", height=8.27)"
   ]
  },
  {
   "cell_type": "code",
   "execution_count": null,
   "metadata": {
    "scrolled": true
   },
   "outputs": [],
   "source": [
    "linregress(acum['NPP-375'] , acum['AQUA_M-T'])"
   ]
  },
  {
   "cell_type": "code",
   "execution_count": null,
   "metadata": {},
   "outputs": [],
   "source": [
    "a.rvalue**2"
   ]
  },
  {
   "cell_type": "code",
   "execution_count": null,
   "metadata": {
    "scrolled": true
   },
   "outputs": [],
   "source": [
    "a = linregress(acum['NPP-375'] , acum['AQUA_M-T'])"
   ]
  },
  {
   "cell_type": "code",
   "execution_count": null,
   "metadata": {},
   "outputs": [],
   "source": [
    "acum20['ref_calc'] = acum20['NPP-375']*a.slope + a.intercept"
   ]
  },
  {
   "cell_type": "code",
   "execution_count": null,
   "metadata": {},
   "outputs": [],
   "source": [
    "acum20"
   ]
  },
  {
   "cell_type": "code",
   "execution_count": null,
   "metadata": {
    "scrolled": true
   },
   "outputs": [],
   "source": [
    "acum20['AQUA_M-T'].sum(),int(acum20['ref_calc'].sum())"
   ]
  },
  {
   "cell_type": "code",
   "execution_count": null,
   "metadata": {
    "scrolled": true
   },
   "outputs": [],
   "source": [
    "total20_aqua = acum20 [(acum20.data_mes.dt.year == 2020)][\"AQUA_M-T\"].sum()\n",
    "total20_calc = int(acum20 [(acum20.data_mes.dt.year == 2020)][\"ref_calc\"].sum())\n",
    "dif = (total20_calc - total20_aqua) / total20_aqua \n",
    "print('mes1_5' , total20_aqua, total20_calc, dif)"
   ]
  },
  {
   "cell_type": "markdown",
   "metadata": {},
   "source": [
    "## Conclusão  \n",
    "  Conforme foi testado todos os valores considerando os meses mais criticos e mesnos criticos, com melhor r2 todos não conseguem fazer uma estimativa mensal que seja interessante.\n",
    "  \n",
    "  Existem ainda duas abordagem uma de separar apenas o ano anterior como referencia e outra considenrando as variações de dia.\n",
    "  \n",
    "  # Análise considerando apenas o ano anterior"
   ]
  },
  {
   "cell_type": "code",
   "execution_count": null,
   "metadata": {},
   "outputs": [],
   "source": [
    "focos"
   ]
  },
  {
   "cell_type": "code",
   "execution_count": null,
   "metadata": {},
   "outputs": [],
   "source": [
    "focos19 = focos[focos.data_mes.dt.year == 2019]"
   ]
  },
  {
   "cell_type": "code",
   "execution_count": null,
   "metadata": {},
   "outputs": [],
   "source": [
    "acum = focos19.pivot_table(index='data_mes', columns=['satelite'], aggfunc=\"mean\", values='qtd', margins=False )\n",
    "acum = pd.DataFrame(acum.to_records())\n",
    "\n",
    "acum.describe()"
   ]
  },
  {
   "cell_type": "code",
   "execution_count": null,
   "metadata": {},
   "outputs": [],
   "source": [
    "g = sns.jointplot('NPP-375', 'AQUA_M-T', data=acum, kind=\"reg\",\n",
    "                  color=\"r\", height=8.27)"
   ]
  },
  {
   "cell_type": "code",
   "execution_count": null,
   "metadata": {},
   "outputs": [],
   "source": [
    "acum"
   ]
  },
  {
   "cell_type": "code",
   "execution_count": null,
   "metadata": {
    "scrolled": false
   },
   "outputs": [],
   "source": [
    "linregress(acum['NPP-375'] , acum['AQUA_M-T'])"
   ]
  },
  {
   "cell_type": "code",
   "execution_count": null,
   "metadata": {
    "scrolled": true
   },
   "outputs": [],
   "source": [
    "a = linregress(acum['NPP-375'] , acum['AQUA_M-T'])"
   ]
  },
  {
   "cell_type": "code",
   "execution_count": null,
   "metadata": {},
   "outputs": [],
   "source": [
    "a.rvalue**2"
   ]
  },
  {
   "cell_type": "code",
   "execution_count": null,
   "metadata": {
    "scrolled": true
   },
   "outputs": [],
   "source": [
    "a = linregress(acum['NPP-375'] , acum['AQUA_M-T'])"
   ]
  },
  {
   "cell_type": "code",
   "execution_count": null,
   "metadata": {},
   "outputs": [],
   "source": [
    "focos20 = focos[(focos.data_mes.dt.year == 2020)]\n",
    "acum20 = focos20.pivot_table(index='data_mes', columns=['satelite'], aggfunc=\"mean\", values='qtd', margins=False )\n",
    "acum20 = pd.DataFrame(acum20.to_records())\n",
    "acum20"
   ]
  },
  {
   "cell_type": "code",
   "execution_count": null,
   "metadata": {},
   "outputs": [],
   "source": [
    "acum20['ref_calc'] = acum20['NPP-375']*a.slope + a.intercept"
   ]
  },
  {
   "cell_type": "code",
   "execution_count": null,
   "metadata": {},
   "outputs": [],
   "source": [
    "acum20"
   ]
  },
  {
   "cell_type": "code",
   "execution_count": null,
   "metadata": {
    "scrolled": true
   },
   "outputs": [],
   "source": [
    "total20_aqua = acum20 [(acum20.data_mes.dt.year == 2020)][\"AQUA_M-T\"].sum()\n",
    "total20_calc = int(acum20 [(acum20.data_mes.dt.year == 2020)][\"ref_calc\"].sum())\n",
    "dif = (total20_calc - total20_aqua) / total20_aqua \n",
    "print('mes1_5' , total20_aqua, total20_calc, dif)"
   ]
  },
  {
   "cell_type": "code",
   "execution_count": null,
   "metadata": {},
   "outputs": [],
   "source": []
  },
  {
   "cell_type": "markdown",
   "metadata": {},
   "source": [
    "## Conclusão  \n",
    "  Conforme foi testado utilizando como referencia os valores do ano anterior foi um bom melhor r2 e a diferença do acumulado anual foi de -18%\n",
    "  \n",
    "  # Análise considerando parametros do Alberto"
   ]
  },
  {
   "cell_type": "code",
   "execution_count": null,
   "metadata": {
    "scrolled": false
   },
   "outputs": [],
   "source": [
    "focos"
   ]
  },
  {
   "cell_type": "code",
   "execution_count": null,
   "metadata": {},
   "outputs": [],
   "source": [
    "focos20 = focos[(focos.data_mes >= '2019-08-01')]\n",
    "acum = focos20.pivot_table(index='data_mes', columns=['satelite'], aggfunc=\"mean\", values='qtd', margins=False )\n",
    "acum = pd.DataFrame(acum.to_records())\n",
    "acum"
   ]
  },
  {
   "cell_type": "code",
   "execution_count": null,
   "metadata": {
    "scrolled": true
   },
   "outputs": [],
   "source": [
    "acum.isnull().sum()"
   ]
  },
  {
   "cell_type": "code",
   "execution_count": null,
   "metadata": {},
   "outputs": [],
   "source": [
    "acum.describe()"
   ]
  },
  {
   "cell_type": "code",
   "execution_count": null,
   "metadata": {
    "scrolled": false
   },
   "outputs": [],
   "source": [
    "g = sns.jointplot('NPP-375', 'AQUA_M-T', data=acum, kind=\"reg\", xlim=(0,450000), ylim=(0,60000),\n",
    "                  color=\"r\", height=8.27)"
   ]
  },
  {
   "cell_type": "code",
   "execution_count": null,
   "metadata": {},
   "outputs": [],
   "source": [
    "ax = sns.regplot(x='NPP-375', y='AQUA_M-T', data=acum, marker=\"+\", )"
   ]
  },
  {
   "cell_type": "code",
   "execution_count": null,
   "metadata": {},
   "outputs": [],
   "source": [
    "import statsmodels.api as sm"
   ]
  },
  {
   "cell_type": "code",
   "execution_count": null,
   "metadata": {},
   "outputs": [],
   "source": [
    "x = sm.add_constant(acum['NPP-375'])\n",
    "y = acum['AQUA_M-T']"
   ]
  },
  {
   "cell_type": "code",
   "execution_count": null,
   "metadata": {},
   "outputs": [],
   "source": [
    "results = sm.OLS(y,x).fit()"
   ]
  },
  {
   "cell_type": "code",
   "execution_count": null,
   "metadata": {},
   "outputs": [],
   "source": [
    "results.summary()"
   ]
  },
  {
   "cell_type": "code",
   "execution_count": null,
   "metadata": {
    "scrolled": true
   },
   "outputs": [],
   "source": [
    "linregress(acum['NPP-375'] , acum['AQUA_M-T'])"
   ]
  },
  {
   "cell_type": "code",
   "execution_count": null,
   "metadata": {
    "scrolled": true
   },
   "outputs": [],
   "source": [
    "a = linregress(acum['NPP-375'] , acum['AQUA_M-T'])"
   ]
  },
  {
   "cell_type": "code",
   "execution_count": null,
   "metadata": {},
   "outputs": [],
   "source": [
    "a.rvalue**2"
   ]
  },
  {
   "cell_type": "code",
   "execution_count": null,
   "metadata": {},
   "outputs": [],
   "source": [
    "focos20 = focos[(focos.data_mes.dt.year == 2020)]\n",
    "acum20 = focos20.pivot_table(index='data_mes', columns=['satelite'], aggfunc=\"mean\", values='qtd', margins=False )\n",
    "acum20 = pd.DataFrame(acum20.to_records())\n",
    "acum20"
   ]
  },
  {
   "cell_type": "code",
   "execution_count": null,
   "metadata": {},
   "outputs": [],
   "source": [
    "acum20['ref_calc'] = acum20['NPP-375']*a.slope + a.intercept"
   ]
  },
  {
   "cell_type": "code",
   "execution_count": null,
   "metadata": {},
   "outputs": [],
   "source": [
    "acum20"
   ]
  },
  {
   "cell_type": "code",
   "execution_count": null,
   "metadata": {
    "scrolled": true
   },
   "outputs": [],
   "source": [
    "total20_aqua = acum20 [(acum20.data_mes.dt.year == 2020)][\"AQUA_M-T\"].sum()\n",
    "total20_calc = int(acum20 [(acum20.data_mes.dt.year == 2020)][\"ref_calc\"].sum())\n",
    "dif = (total20_calc - total20_aqua) / total20_aqua \n",
    "print('mes1_5' , total20_aqua, total20_calc, dif)"
   ]
  },
  {
   "cell_type": "code",
   "execution_count": null,
   "metadata": {},
   "outputs": [],
   "source": []
  }
 ],
 "metadata": {
  "kernelspec": {
   "display_name": "Python 3",
   "language": "python",
   "name": "python3"
  },
  "language_info": {
   "codemirror_mode": {
    "name": "ipython",
    "version": 3
   },
   "file_extension": ".py",
   "mimetype": "text/x-python",
   "name": "python",
   "nbconvert_exporter": "python",
   "pygments_lexer": "ipython3",
   "version": "3.7.7"
  }
 },
 "nbformat": 4,
 "nbformat_minor": 4
}
